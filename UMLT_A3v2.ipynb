{
 "cells": [
  {
   "cell_type": "markdown",
   "id": "85ebe399",
   "metadata": {},
   "source": [
    "# Assignment 3\n",
    "## Sign Language Image Classification using Deep Learning"
   ]
  },
  {
   "cell_type": "markdown",
   "id": "beae8032",
   "metadata": {
    "tags": []
   },
   "source": [
    "In this assignment you will implement different deep learning networks to classify images of hands in poses that correspond to letters in American Sign Language. The dataset is contained in the assignment zip file, along with some images and a text file describing the dataset. It is similar in many ways to other MNIST datasets.\n",
    "\n",
    "The American Sign Language letter database of hand gestures represent a multi-class problem with 24 classes of letters (**excluding J and Z which require motion**). The dataset format is patterned to match closely with the classic MNIST. Each training and test case represents a label (0-25) as a one-to-one map for each alphabetic letter A-Z (and **no cases for 9=J or 25=Z because of gesture motions**). The training data (27,455 cases) and test data (7172 cases) are approximately half the size of the standard MNIST but otherwise similar with a header row of label, $pixel_{1}$,$pixel_{2}$….$pixel_{784}$ which represent a single 28x28 pixel image with grayscale values between 0-255.\n",
    "\n",
    "## Scenario\n",
    "\n",
    "A client is interested in having you (or rather the company that you work for) investigate whether it is possible to develop an app that would enable American sign language to be translated for people that do not sign, or those that sign in different languages/styles. They have provided you with a labelled data of images related to signs (hand positions) that represent individual letters in order to do a preliminary test of feasibility.\n",
    "\n",
    "Your manager has asked you to do this feasibility assessment, but subject to a constraint on the computational facilities available.  More specifically, you are asked to do **no more than 100 training runs in total** (including all models and hyperparameter settings that you consider).  \n",
    "\n",
    "The task requires you to create a Jupyter Notebook to perform 22 steps. These steps involve loading the dataset, fixing data problems, converting labels to one-hot encoding, plotting sample images, creating, training, and evaluating two sequential models with 20 Dense layers with 100 neurons each, checking for better accuracy using MC Dropout, retraining the first model with performance scheduling, evaluating both models, using transfer learning to create a new model using pre-trained weights, freezing the weights of the pre-trained layers, adding new Dense layers, training and evaluating the new model, predicting and converting sign language to text using the best model.\n",
    "\n",
    "### IMPORTANT\n",
    "* Train all the models locally on your own machine. No model training should occur on Gradescope (GS).\n",
    "* After completing the training, upload the trained models' **h5 files** and their training histories along with your notebook to GS.\n",
    "    * best_dnn_bn_model.h5\n",
    "    * best_dnn_bn_perf_model.h5\n",
    "    * best_dnn_selu_model.h5\n",
    "    * best_mobilenet_model.h5\n",
    "    * history1\n",
    "    * history2\n",
    "    * history1_perf\n",
    "    * historymb\n",
    "* To avoid any confusion and poor training on GS, please remember to comment out the training code in your notebook before uploading it to GS.\n"
   ]
  },
  {
   "cell_type": "code",
   "execution_count": 2,
   "id": "601d848a",
   "metadata": {
    "tags": []
   },
   "outputs": [],
   "source": [
    "# import the necessary libraries (TensorFlow, sklearn NumPy, Pandas, and Matplotlib)\n",
    "import tensorflow as tf\n",
    "from tensorflow import keras\n",
    "import numpy as np\n",
    "import pandas as pd\n",
    "import matplotlib.pyplot as plt\n",
    "import os\n",
    "\n",
    "# Install opencv using \"pip install opencv-python\" in order to use cv2.\n",
    "import cv2"
   ]
  },
  {
   "cell_type": "markdown",
   "id": "c65792dc",
   "metadata": {},
   "source": [
    "**Step0** This test is for checking whether all the required files are submitted. Once you submit all the required files to the autograder, you will be able to pass this step.\n",
    "\n",
    "**IMPORTANT:** Run this step to determine whether you have created all the required files correctly.\n",
    "\n",
    "_Points:_ 1"
   ]
  },
  {
   "cell_type": "code",
   "execution_count": 3,
   "id": "d5f4275e",
   "metadata": {
    "tags": []
   },
   "outputs": [],
   "source": [
    "# Don't change this cell code\n",
    "required_files = ['best_dnn_bn_model.h5','best_dnn_bn_perf_model.h5','best_dnn_selu_model.h5','best_mobilenet_model.h5','history1','history2','history1_perf','historymb']\n",
    "step0_files = True\n",
    "for file in required_files:\n",
    "    if os.path.exists(file) == False:\n",
    "        step0_files = False\n",
    "        print(\"One or more files are missing!\")\n",
    "        break\n",
    "\n",
    "# The following code is used by the autograder. Do not modify it.   \n",
    "step0_data = step0_files"
   ]
  },
  {
   "cell_type": "markdown",
   "id": "f83a08de-5250-460c-b589-4f2e386711d6",
   "metadata": {
    "deletable": false,
    "editable": false
   },
   "source": [
    "grader.check(\"step00\")"
   ]
  },
  {
   "cell_type": "markdown",
   "id": "89b498c4",
   "metadata": {
    "tags": []
   },
   "source": [
    "### Data Preprocessing"
   ]
  },
  {
   "cell_type": "markdown",
   "id": "12bd664f",
   "metadata": {},
   "source": [
    "**STEP1** Load the dataset (train and test) using `Pandas` from the CSV file.\n",
    "\n",
    "_Points:_ 1"
   ]
  },
  {
   "cell_type": "code",
   "execution_count": 4,
   "id": "ff0322a5",
   "metadata": {
    "tags": []
   },
   "outputs": [],
   "source": [
    "# Load the dataset using Pandas from the CSV file\n",
    "train_df = pd.read_csv(\"sign_mnist_train.csv\")\n",
    "test_df = pd.read_csv(\"sign_mnist_test.csv\")\n",
    "\n",
    "# The following code is used by the autograder. Do not modify it.\n",
    "step1_sol = test_df.shape"
   ]
  },
  {
   "cell_type": "markdown",
   "id": "3724c552-18f8-479b-a08f-56b46b3ab840",
   "metadata": {
    "deletable": false,
    "editable": false
   },
   "source": [
    "grader.check(\"step01\")"
   ]
  },
  {
   "cell_type": "markdown",
   "id": "f84c0584",
   "metadata": {},
   "source": [
    "**STEP2** Examine the data and fix any problems. It is important that you don't have gaps in the number of classes, therefore, check the classes which are not available and shift the labels in order to ensure 24 classes, starting from class 0. In addition, normalize the values of your images in a range of 0 and 1.\n",
    "\n",
    "_Points:_ 1"
   ]
  },
  {
   "cell_type": "code",
   "execution_count": 5,
   "id": "2488a9d0",
   "metadata": {
    "tags": []
   },
   "outputs": [],
   "source": [
    "# Remove rows with labels > 25 (9=J and 25=Z)\n",
    "train_df = train_df[train_df['label'] <= 24]\n",
    "test_df = test_df[test_df['label'] <= 24]\n",
    "\n",
    "# Shift labels to ensure 24 classes starting from 0\n",
    "train_labels = train_df['label'].values\n",
    "test_labels = test_df['label'].values\n",
    "train_labels[train_labels > 8] -= 1\n",
    "test_labels[test_labels > 8] -= 1\n",
    "\n",
    "# Separate pixel values in training and testing sets\n",
    "train_images = train_df.iloc[:, 1:].values\n",
    "test_images = test_df.iloc[:, 1:].values\n",
    "\n",
    "# Normalize pixel values in the range of 0 and 1\n",
    "train_images = train_images / 255.0\n",
    "test_images = test_images / 255.0\n",
    "\n",
    "# The following code is used by the autograder. Do not modify it.\n",
    "step2_sol = (np.max(train_images)-np.min(train_images), np.max(train_labels)-np.min(train_labels), np.max(test_images)-np.min(test_images), np.max(test_labels)-np.min(test_labels))"
   ]
  },
  {
   "cell_type": "markdown",
   "id": "e1e8ae39-75bc-40e0-8b49-7a47212cfcb6",
   "metadata": {
    "deletable": false,
    "editable": false
   },
   "source": [
    "grader.check(\"step02\")"
   ]
  },
  {
   "cell_type": "markdown",
   "id": "ea4d5816",
   "metadata": {},
   "source": [
    "**STEP3** Convert Labels to One-Hot Encoding both train and test.\n",
    "\n",
    "_Points:_ 1"
   ]
  },
  {
   "cell_type": "code",
   "execution_count": 6,
   "id": "5f4a46b3",
   "metadata": {
    "tags": []
   },
   "outputs": [],
   "source": [
    "from keras.utils import to_categorical\n",
    "\n",
    "# Convert labels to one-hot encoding\n",
    "train_labels_encoded = to_categorical(train_labels)\n",
    "test_labels_encoded = to_categorical(test_labels)\n",
    "\n",
    "# The following code is used by the autograder. Do not modify it.\n",
    "step3_sol = (len(np.unique(train_labels_encoded)), len(np.unique(test_labels_encoded)))"
   ]
  },
  {
   "cell_type": "markdown",
   "id": "6b8b56f7-0494-43e5-b808-d6f9a9722675",
   "metadata": {
    "deletable": false,
    "editable": false
   },
   "source": [
    "grader.check(\"step03\")"
   ]
  },
  {
   "cell_type": "markdown",
   "id": "2570c487",
   "metadata": {},
   "source": [
    "**STEP4** Plot one sample image for each letter in the dataset given in the training set. To solve this step you should use the function `imshow` to diplay your images in a similar to the image below.\n",
    "\n",
    "<center><img src=\"example_letters.jpg\" width=400 height=300/></center>\n",
    "\n",
    "\n",
    "\n",
    "\n",
    "\n",
    "_Points:_ 0"
   ]
  },
  {
   "cell_type": "code",
   "execution_count": 7,
   "id": "ead36f75",
   "metadata": {
    "tags": []
   },
   "outputs": [],
   "source": [
    "# Get one sample image for each label\n",
    "\n",
    "# Plot the sample images"
   ]
  },
  {
   "cell_type": "markdown",
   "id": "861d9987-8380-4ade-89bb-9f154b2a9b6b",
   "metadata": {
    "deletable": false,
    "editable": false
   },
   "source": [
    "grader.check(\"step04\")"
   ]
  },
  {
   "cell_type": "markdown",
   "id": "a38a6b30",
   "metadata": {},
   "source": [
    "## Create Neural Network Architectures\n",
    "\n",
    "In this part you should create two different models (model1 and model2) with different architectures."
   ]
  },
  {
   "cell_type": "markdown",
   "id": "34849be2",
   "metadata": {},
   "source": [
    "**STEP5** \n",
    "Create one sequential model in `TensorFlow` with 20 Dense layers with 100 neurons each one. Consider the specific modifications that you need to do in order to work with your specific input and those to get the required output. \n",
    "\n",
    "* This model uses Batch Normalization in each layer and uses He initialization. Add Swish activation function to each layer.\n",
    "\n",
    "\n",
    "_Points:_ 5"
   ]
  },
  {
   "cell_type": "code",
   "execution_count": 8,
   "id": "6d76f769",
   "metadata": {
    "tags": []
   },
   "outputs": [],
   "source": [
    "import tensorflow as tf\n",
    "from tensorflow.keras.layers import Dense, BatchNormalization, Activation\n",
    "from tensorflow.nn import swish\n",
    "from tensorflow.keras.layers import InputLayer, AlphaDropout\n",
    "\n",
    "# Model 1: with Batch Normalization\n",
    "model1 = tf.keras.Sequential()\n",
    "\n",
    "# Add the input layer\n",
    "model1.add(InputLayer(input_shape=([28 , 28])))\n",
    "\n",
    "# Add the first dense layer with batch normalization and Swish activation\n",
    "model1.add(Dense(100, kernel_initializer='he_normal'))\n",
    "model1.add(BatchNormalization())\n",
    "model1.add(Activation(swish))\n",
    "\n",
    "# Add the remaining 19 dense layers with batch normalization and Swish activation\n",
    "for _ in range(19):\n",
    "    model1.add(Dense(100, kernel_initializer='he_normal'))\n",
    "    model1.add(BatchNormalization())\n",
    "    model1.add(Activation(swish))\n",
    "\n",
    "# Output layer\n",
    "model1.add(Dense(24, activation='softmax'))\n",
    "\n",
    "# The following code is used by the autograder. Do not modify it.\n",
    "step5_sol = model1"
   ]
  },
  {
   "cell_type": "markdown",
   "id": "339f4031-4de3-4de5-aef5-21e1d60ed456",
   "metadata": {
    "deletable": false,
    "editable": false
   },
   "source": [
    "grader.check(\"step05\")"
   ]
  },
  {
   "cell_type": "markdown",
   "id": "24cffa84",
   "metadata": {},
   "source": [
    "**STEP6** \n",
    "Create a second sequential model in `TensorFlow` also with 20 Dense layers with 100 neurons each one. Consider the specific modifications that you need to do in order to work with your specific input and those to get the required output.\n",
    "\n",
    "In this model you should:\n",
    "* Replace Batch Normalization with SELU and make necessary adjustments to ensure the network self-normalizes, use LeCun normal initialization, make sure the DNN contains only a sequence of dense layers. \n",
    "* Regularize this model with Alpha Dropout 0.1.\n",
    "\n",
    "_Points:_ 5"
   ]
  },
  {
   "cell_type": "code",
   "execution_count": 9,
   "id": "b59dcc14",
   "metadata": {
    "tags": []
   },
   "outputs": [],
   "source": [
    "from tensorflow.keras.initializers import lecun_normal\n",
    "from tensorflow.keras.activations import selu\n",
    "# Model 2: with SELU and self-normalization\n",
    "model2 = tf.keras.Sequential()\n",
    "\n",
    "# Add the first dense layer with SELU activation and LeCun normal initialization\n",
    "model2.add(Dense(100, activation=selu, kernel_initializer=lecun_normal(), input_shape=([28 , 28])))\n",
    "model2.add(AlphaDropout(0.1))\n",
    "\n",
    "# Add the remaining 19 dense layers with SELU activation and LeCun normal initialization\n",
    "for _ in range(19):\n",
    "    model2.add(Dense(100, activation=selu, kernel_initializer=lecun_normal()))\n",
    "    model2.add(AlphaDropout(0.1))\n",
    "\n",
    "# Output layer\n",
    "model2.add(Dense(24, activation='softmax'))\n",
    "\n",
    "# The following code is used by the autograder. Do not modify it.\n",
    "step6_sol = model2"
   ]
  },
  {
   "cell_type": "markdown",
   "id": "aae33570-c5fe-4882-8faf-ba50490f18c2",
   "metadata": {
    "deletable": false,
    "editable": false
   },
   "source": [
    "grader.check(\"step06\")"
   ]
  },
  {
   "cell_type": "markdown",
   "id": "1b1d33d4",
   "metadata": {},
   "source": [
    "## Compile the Models"
   ]
  },
  {
   "cell_type": "markdown",
   "id": "a9dcee2f",
   "metadata": {},
   "source": [
    "**STEP7** \n",
    "Compile the both previous models using **Nadam** optimization. Also:\n",
    "\n",
    "* Set the loss function to categorical cross-entropy. \n",
    "* Set the metric to accuracy.\n",
    "\n",
    "_Points:_ 2"
   ]
  },
  {
   "cell_type": "code",
   "execution_count": 10,
   "id": "8ce2df62",
   "metadata": {
    "tags": []
   },
   "outputs": [],
   "source": [
    "from tensorflow.keras.optimizers import Nadam\n",
    "# Compile first model\n",
    "model1.compile(optimizer=Nadam(), loss='categorical_crossentropy', metrics=['accuracy'])\n",
    "\n",
    "# Compile second model\n",
    "model2.compile(optimizer=Nadam(), loss='categorical_crossentropy', metrics=['accuracy'])\n",
    "\n",
    "# The following code is used by the autograder. Do not modify it.\n",
    "step7_sol = (model1.loss,model2.loss,model1.optimizer.get_config()['name'],model2.optimizer.get_config()['name'])"
   ]
  },
  {
   "cell_type": "markdown",
   "id": "07be248f-e1e3-4147-ae4e-f2e216f079b0",
   "metadata": {
    "deletable": false,
    "editable": false
   },
   "source": [
    "grader.check(\"step07\")"
   ]
  },
  {
   "cell_type": "markdown",
   "id": "b3097d06",
   "metadata": {
    "tags": []
   },
   "source": [
    "## Model Training"
   ]
  },
  {
   "cell_type": "markdown",
   "id": "d64585c5",
   "metadata": {},
   "source": [
    "**STEP8** One of these models work preferably with data, which follow a normal distribution. Generate **train_images_scaled** and **test_images_scaled** using a `Sklearn` function that allow you to convert data to a normal distribution with mean 0 and variance equal 1. \n",
    "\n",
    "_Points:_ 2"
   ]
  },
  {
   "cell_type": "code",
   "execution_count": 11,
   "id": "01f6f980",
   "metadata": {
    "tags": []
   },
   "outputs": [],
   "source": [
    "from sklearn.preprocessing import StandardScaler\n",
    "scaler = StandardScaler()\n",
    "train_images_2d = train_images.reshape(train_images.shape[0], -1)\n",
    "test_images_2d = test_images.reshape(test_images.shape[0], -1)\n",
    "scaler.fit(train_images_2d)\n",
    "train_images_scaled = scaler.transform(train_images_2d)\n",
    "test_images_scaled = scaler.transform(test_images_2d)\n",
    "train_images_scaled = train_images_scaled.reshape(train_images.shape)\n",
    "test_images_scaled = test_images_scaled.reshape(test_images.shape)\n",
    "\n",
    "# The following code is used by the autograder. Do not modify it.\n",
    "step8_sol = (np.mean(train_images_scaled),np.mean(test_images_scaled),np.std(train_images_scaled),np.std(test_images_scaled))"
   ]
  },
  {
   "cell_type": "markdown",
   "id": "8d3bc6ca-9487-496a-a545-9179af460b3b",
   "metadata": {
    "deletable": false,
    "editable": false
   },
   "source": [
    "grader.check(\"step08\")"
   ]
  },
  {
   "cell_type": "markdown",
   "id": "991bf934",
   "metadata": {},
   "source": [
    "**STEP9** Train the two models on the training dataset using early stopping. In order to save the results given by your training for your models, create checkpoints saving the best model in each case using the function `ModelCheckpoint`. Note that one of the models use the scaled data obtained in **STEP8**. Meanwhile, the other model does not. Figure out which is the proper input data for each model.\n",
    "\n",
    "* Limit the number of epochs to 100. Set the batch size to or greater than 32.\n",
    "\n",
    "**IMPORTANT:** Comment out the code to train/fit the two models. Keep the code given to save the models.\n",
    "\n",
    "_Points:_ 3"
   ]
  },
  {
   "cell_type": "code",
   "execution_count": 12,
   "id": "f59a04d6",
   "metadata": {
    "tags": []
   },
   "outputs": [],
   "source": [
    "import pickle\n",
    "import numpy as np\n",
    "import tensorflow as tf\n",
    "from tensorflow.keras.models import Sequential\n",
    "from tensorflow.keras.layers import Dense\n",
    "from tensorflow.keras.callbacks import EarlyStopping, ModelCheckpoint\n",
    "\n",
    "# The following line of code is used by the autograder. Do not modify it.\n",
    "history1, history2 = None, None\n",
    "\n",
    "# We go to set a seed to get the same results every run\n",
    "np.random.seed(42)\n",
    "tf.random.set_seed(42)\n",
    "\n",
    "# Set up early stopping\n",
    "early_stopping = EarlyStopping(patience=10, restore_best_weights=True)\n",
    "\n",
    "# Define model checkpoint callback\n",
    "model1_checkpoint_cb = ModelCheckpoint(\n",
    "    'best_dnn_bn_model.h5',\n",
    "    save_best_only=True,\n",
    "    save_weights_only=False,\n",
    "    monitor='val_loss',\n",
    "    mode='min',\n",
    "    verbose=1\n",
    ")\n",
    "\n",
    "model2_checkpoint_cb = ModelCheckpoint(\n",
    "    'best_dnn_selu_model.h5',\n",
    "    save_best_only=True,\n",
    "    save_weights_only=False,\n",
    "    monitor='val_loss',\n",
    "    mode='min',\n",
    "    verbose=1\n",
    ")\n",
    "\n",
    "#################################### Perform the training on your machine and then comment out the following section before uploading it to gradescope. \n",
    "# Make sure your best model is named as follows:\n",
    "# Model1 filename = best_dnn_bn_model.h5\n",
    "# Model2 filename = best_dnn_selu_model.h5\n",
    "\n",
    "#Train model 1 (Comment this out before submission)\n",
    "#model1 = Sequential()\n",
    "#model1.add(Dense(128, activation='relu', input_shape=(784,)))\n",
    "#model1.add(Dense(64, activation='relu'))\n",
    "#model1.add(Dense(24, activation='sigmoid'))  # Use sigmoid activation for multi-label classification\n",
    "#model1.compile(optimizer='adam', loss='binary_crossentropy', metrics=['accuracy'])\n",
    "#history1 = model1.fit(\n",
    "  #  train_images_scaled, train_labels_encoded[:, :24],\n",
    "   # epochs=5, batch_size=32,\n",
    "    #validation_data=(test_images_scaled, test_labels_encoded[:, :24]),\n",
    "    #callbacks=[early_stopping, model1_checkpoint_cb]\n",
    "#)\n",
    "\n",
    "# Train model 2 (Comment this out before submission)\n",
    "#model2 = Sequential()\n",
    "#model2.add(Dense(128, activation='selu', input_shape=(784,)))\n",
    "#model2.add(Dense(64, activation='selu'))\n",
    "#model2.add(Dense(24, activation='sigmoid'))  # Use sigmoid activation for multi-label classification\n",
    "#model2.compile(optimizer='adam', loss='binary_crossentropy', metrics=['accuracy'])\n",
    "#history2 = model2.fit(\n",
    " #   train_images, train_labels_encoded[:, :24],\n",
    "  #  epochs=5, batch_size=32,\n",
    "    #validation_data=(test_images, test_labels_encoded[:, :24]),\n",
    "   # callbacks=[early_stopping, model2_checkpoint_cb]\n",
    "#)\n",
    "\n",
    "# The following code will save your history - don't change it.\n",
    "#if 'history1' in globals():  \n",
    " #   with open('./history1', 'wb') as file_pi:\n",
    "  #      pickle.dump(history1.history, file_pi)\n",
    "#if 'history2' in globals():  \n",
    " #   with open('./history2', 'wb') as file_pi:\n",
    "  #      pickle.dump(history2.history, file_pi)\n",
    "####################################\n",
    "\n",
    "# The following code is used by the autograder. Do not modify it.\n",
    "step9_sol = (model1_checkpoint_cb, model2_checkpoint_cb, early_stopping)"
   ]
  },
  {
   "cell_type": "markdown",
   "id": "cae3db5e-2ac5-449e-abe5-1e7c861d8859",
   "metadata": {
    "deletable": false,
    "editable": false
   },
   "source": [
    "grader.check(\"step09\")"
   ]
  },
  {
   "cell_type": "markdown",
   "id": "4891cbbe",
   "metadata": {},
   "source": [
    "**STEP10** Using the loaded models obtained from the code given below, evaluate the performance of each model on the test set. While evaluating, make sure to take into account which model uses scaled data and which model does not.\n",
    "\n",
    "_Points:_ 2"
   ]
  },
  {
   "cell_type": "code",
   "execution_count": 13,
   "id": "48cc4f30",
   "metadata": {
    "tags": []
   },
   "outputs": [
    {
     "name": "stdout",
     "output_type": "stream",
     "text": [
      "225/225 [==============================] - 1s 4ms/step - loss: 0.0535 - accuracy: 0.8015\n",
      "225/225 [==============================] - 1s 4ms/step - loss: 0.0715 - accuracy: 0.6958\n",
      "Model 1| Test accuracy: 0.8015, Test loss: 0.0535\n",
      "Model 2| Test accuracy: 0.6958, Test loss: 0.0715\n"
     ]
    }
   ],
   "source": [
    "# Do not change the following 4 lines of code.\n",
    "# define the file name for the saved model\n",
    "model1_name = \"best_dnn_bn_model.h5\"\n",
    "# load the model\n",
    "model1 = keras.models.load_model(model1_name)\n",
    "# define the file name for the saved model\n",
    "model2_name = \"best_dnn_selu_model.h5\"\n",
    "# load the model\n",
    "model2 = keras.models.load_model(model2_name)\n",
    "\n",
    "# Evaluate the models on the test set\n",
    "test_loss1, test_acc1 = model1.evaluate(test_images_scaled, test_labels_encoded[:, :24])\n",
    "test_loss2, test_acc2 = model2.evaluate(test_images, test_labels_encoded[:, :24])\n",
    "print(f\"Model 1| Test accuracy: {test_acc1:.4f}, Test loss: {test_loss1:.4f}\")\n",
    "print(f\"Model 2| Test accuracy: {test_acc2:.4f}, Test loss: {test_loss2:.4f}\")\n",
    "\n",
    "# The following code is used by the autograder. Do not modify it.\n",
    "step10_sol = (test_loss1, test_acc1, test_loss2, test_acc2, model1, model2)"
   ]
  },
  {
   "cell_type": "markdown",
   "id": "1c385336-3e73-4d81-9862-ca43d55d943d",
   "metadata": {
    "deletable": false,
    "editable": false
   },
   "source": [
    "grader.check(\"step10\")"
   ]
  },
  {
   "cell_type": "markdown",
   "id": "234cdacb",
   "metadata": {},
   "source": [
    "**STEP11** From the loaded history of the two trained models, plot a graph of **accuracy** vs **number of epochs** for both training and validation. \n",
    "\n",
    "_Points:_ 0"
   ]
  },
  {
   "cell_type": "code",
   "execution_count": 14,
   "id": "b7d962c5",
   "metadata": {
    "tags": []
   },
   "outputs": [
    {
     "data": {
      "image/png": "[encoded data removed]",
      "text/plain": [
       "<Figure size 432x288 with 1 Axes>"
      ]
     },
     "metadata": {
      "needs_background": "light"
     },
     "output_type": "display_data"
    }
   ],
   "source": [
    "# Load history for model 1 (Do not modify this code)\n",
    "history_name1 = \"./history1\"\n",
    "with open(history_name1, \"rb\") as file_pi:\n",
    "    loaded_history1 = pickle.load(file_pi)\n",
    "    \n",
    "# Load history for model 2 (Do not modify this code)\n",
    "history_name2 = \"./history2\"\n",
    "with open(history_name2, \"rb\") as file_pi:\n",
    "    loaded_history2 = pickle.load(file_pi)\n",
    "\n",
    "# Plot the training and validation accuracies during training for both models\n",
    "plt.plot(loaded_history1[\"accuracy\"], label=\"Model 1 Training Accuracy\")\n",
    "plt.plot(loaded_history1[\"val_accuracy\"], label=\"Model 1 Validation Accuracy\")\n",
    "plt.plot(loaded_history2[\"accuracy\"], label=\"Model 2 Training Accuracy\")\n",
    "plt.plot(loaded_history2[\"val_accuracy\"], label=\"Model 2 Validation Accuracy\")\n",
    "plt.xlabel(\"Epochs\")\n",
    "plt.ylabel(\"Accuracy\")\n",
    "plt.title(\"Accuracy vs. Number of Epochs\")\n",
    "plt.legend()\n",
    "plt.show()\n",
    "\n",
    "# The following code is used by the autograder. Do not modify it.\n",
    "step11_sol = (loaded_history1, loaded_history2)"
   ]
  },
  {
   "cell_type": "markdown",
   "id": "97812ff0-bcb9-441f-a2ec-487a938bb564",
   "metadata": {
    "deletable": false,
    "editable": false
   },
   "source": [
    "grader.check(\"step11\")"
   ]
  },
  {
   "cell_type": "markdown",
   "id": "541c738d",
   "metadata": {},
   "source": [
    "## MC Dropout"
   ]
  },
  {
   "cell_type": "markdown",
   "id": "b91ebe13",
   "metadata": {},
   "source": [
    "**STEP12** Check if model2 achieves better accuracy using MC Dropout (without retraining).\n",
    "\n",
    "_Points:_ 3"
   ]
  },
  {
   "cell_type": "code",
   "execution_count": 35,
   "id": "e75540f9",
   "metadata": {
    "tags": []
   },
   "outputs": [
    {
     "ename": "TypeError",
     "evalue": "predict() got an unexpected keyword argument 'training'",
     "output_type": "error",
     "traceback": [
      "\u001b[1;31m---------------------------------------------------------------------------\u001b[0m",
      "\u001b[1;31mTypeError\u001b[0m                                 Traceback (most recent call last)",
      "Input \u001b[1;32mIn [35]\u001b[0m, in \u001b[0;36m<cell line: 20>\u001b[1;34m()\u001b[0m\n\u001b[0;32m     17\u001b[0m n_samples \u001b[38;5;241m=\u001b[39m \u001b[38;5;241m30\u001b[39m\n\u001b[0;32m     19\u001b[0m \u001b[38;5;66;03m# Call mc_dropout_predict to compute the MC Dropout predictions\u001b[39;00m\n\u001b[1;32m---> 20\u001b[0m output_mc \u001b[38;5;241m=\u001b[39m \u001b[43mmc_dropout_predict\u001b[49m\u001b[43m(\u001b[49m\u001b[43mmodel2\u001b[49m\u001b[43m,\u001b[49m\u001b[43m \u001b[49m\u001b[43mtest_images_scaled\u001b[49m\u001b[43m,\u001b[49m\u001b[43m \u001b[49m\u001b[43mn_samples\u001b[49m\u001b[38;5;241;43m=\u001b[39;49m\u001b[43mn_samples\u001b[49m\u001b[43m)\u001b[49m\n\u001b[0;32m     22\u001b[0m \u001b[38;5;66;03m# Compute the accuracy using MC Dropout\u001b[39;00m\n\u001b[0;32m     23\u001b[0m accuracy_mc \u001b[38;5;241m=\u001b[39m np\u001b[38;5;241m.\u001b[39mmean(np\u001b[38;5;241m.\u001b[39margmax(output_mc, axis\u001b[38;5;241m=\u001b[39m\u001b[38;5;241m1\u001b[39m) \u001b[38;5;241m==\u001b[39m np\u001b[38;5;241m.\u001b[39margmax(test_labels_encoded, axis\u001b[38;5;241m=\u001b[39m\u001b[38;5;241m1\u001b[39m))\n",
      "Input \u001b[1;32mIn [35]\u001b[0m, in \u001b[0;36mmc_dropout_predict\u001b[1;34m(model, X, n_samples)\u001b[0m\n\u001b[0;32m     11\u001b[0m predictions \u001b[38;5;241m=\u001b[39m []\n\u001b[0;32m     12\u001b[0m \u001b[38;5;28;01mfor\u001b[39;00m _ \u001b[38;5;129;01min\u001b[39;00m \u001b[38;5;28mrange\u001b[39m(n_samples):\n\u001b[1;32m---> 13\u001b[0m     predictions\u001b[38;5;241m.\u001b[39mappend(\u001b[43mmodel\u001b[49m\u001b[38;5;241;43m.\u001b[39;49m\u001b[43mpredict\u001b[49m\u001b[43m(\u001b[49m\u001b[43mX\u001b[49m\u001b[43m,\u001b[49m\u001b[43m \u001b[49m\u001b[43mtraining\u001b[49m\u001b[38;5;241;43m=\u001b[39;49m\u001b[38;5;28;43;01mTrue\u001b[39;49;00m\u001b[43m)\u001b[49m)\n\u001b[0;32m     14\u001b[0m \u001b[38;5;28;01mreturn\u001b[39;00m np\u001b[38;5;241m.\u001b[39mmean(predictions, axis\u001b[38;5;241m=\u001b[39m\u001b[38;5;241m0\u001b[39m)\n",
      "File \u001b[1;32m~\\anaconda3\\lib\\site-packages\\keras\\utils\\traceback_utils.py:70\u001b[0m, in \u001b[0;36mfilter_traceback.<locals>.error_handler\u001b[1;34m(*args, **kwargs)\u001b[0m\n\u001b[0;32m     67\u001b[0m     filtered_tb \u001b[38;5;241m=\u001b[39m _process_traceback_frames(e\u001b[38;5;241m.\u001b[39m__traceback__)\n\u001b[0;32m     68\u001b[0m     \u001b[38;5;66;03m# To get the full stack trace, call:\u001b[39;00m\n\u001b[0;32m     69\u001b[0m     \u001b[38;5;66;03m# `tf.debugging.disable_traceback_filtering()`\u001b[39;00m\n\u001b[1;32m---> 70\u001b[0m     \u001b[38;5;28;01mraise\u001b[39;00m e\u001b[38;5;241m.\u001b[39mwith_traceback(filtered_tb) \u001b[38;5;28;01mfrom\u001b[39;00m \u001b[38;5;28mNone\u001b[39m\n\u001b[0;32m     71\u001b[0m \u001b[38;5;28;01mfinally\u001b[39;00m:\n\u001b[0;32m     72\u001b[0m     \u001b[38;5;28;01mdel\u001b[39;00m filtered_tb\n",
      "File \u001b[1;32m~\\anaconda3\\lib\\site-packages\\keras\\utils\\traceback_utils.py:65\u001b[0m, in \u001b[0;36mfilter_traceback.<locals>.error_handler\u001b[1;34m(*args, **kwargs)\u001b[0m\n\u001b[0;32m     63\u001b[0m filtered_tb \u001b[38;5;241m=\u001b[39m \u001b[38;5;28;01mNone\u001b[39;00m\n\u001b[0;32m     64\u001b[0m \u001b[38;5;28;01mtry\u001b[39;00m:\n\u001b[1;32m---> 65\u001b[0m     \u001b[38;5;28;01mreturn\u001b[39;00m fn(\u001b[38;5;241m*\u001b[39margs, \u001b[38;5;241m*\u001b[39m\u001b[38;5;241m*\u001b[39mkwargs)\n\u001b[0;32m     66\u001b[0m \u001b[38;5;28;01mexcept\u001b[39;00m \u001b[38;5;167;01mException\u001b[39;00m \u001b[38;5;28;01mas\u001b[39;00m e:\n\u001b[0;32m     67\u001b[0m     filtered_tb \u001b[38;5;241m=\u001b[39m _process_traceback_frames(e\u001b[38;5;241m.\u001b[39m__traceback__)\n",
      "\u001b[1;31mTypeError\u001b[0m: predict() got an unexpected keyword argument 'training'"
     ]
    }
   ],
   "source": [
    "#This function computes the MC (Monte Carlo) Dropout predictions for a given model and input data. \n",
    "# It returns the mean of multiple predictions obtained by running the model in training mode.\n",
    "#Parameters\n",
    "#   model: A trained model with a dropout layers.\n",
    "#   X    : The input data for which the predictions are to be made.\n",
    "#   n_samples: The number of Monte Carlo samples to generate..\n",
    "#Returns\n",
    "  # The function returns an array-like object containing the MC Dropout predictions for the given input data. \n",
    "  # The shape of the output should be the same as the model's output layer.\n",
    "def mc_dropout_predict(model, X, n_samples=20):\n",
    "    predictions = []\n",
    "    for _ in range(n_samples):\n",
    "        # Enable dropout during inference\n",
    "        dropout_model = create_dropout_model(model)\n",
    "        predictions.append(dropout_model.predict(X))\n",
    "    return np.mean(predictions, axis=0)\n",
    "\n",
    "# Helper function to create a dropout model from the original model\n",
    "def create_dropout_model(model, dropout_rate=0.2):\n",
    "    dropout_model = keras.models.clone_model(model)\n",
    "    dropout_model.set_weights(model.get_weights())\n",
    "    dropout_model.compile(loss=model.loss, optimizer=model.optimizer)\n",
    "    for layer in dropout_model.layers:\n",
    "        if isinstance(layer, keras.layers.Dropout):\n",
    "            layer.rate = dropout_rate  # Set dropout rate to the desired value\n",
    "    return dropout_model\n",
    "\n",
    "# Adjust the dropout rate and the number of Monte Carlo samples as per your experimentation\n",
    "dropout_rate = 0.2\n",
    "n_samples = 30\n",
    "\n",
    "# Call mc_dropout_predict to compute the MC Dropout predictions for model 2\n",
    "output_mc = mc_dropout_predict(model2, test_images, n_samples=n_samples)\n",
    "\n",
    "# Compute the accuracy using MC Dropout\n",
    "accuracy_mc = np.mean(np.argmax(output_mc, axis=1) == test_labels)\n",
    "\n",
    "# Display result.\n",
    "print(f\"Model 2 with MC Dropout: Test accuracy: {accuracy_mc:.4f}\")\n",
    "\n",
    "# The following code is used by the autograder. Do not modify it.\n",
    "step12_sol = (output_mc, accuracy_mc)"
   ]
  },
  {
   "cell_type": "markdown",
   "id": "1622f00e-50a9-4464-8779-8c41900dea68",
   "metadata": {
    "deletable": false,
    "editable": false
   },
   "source": [
    "grader.check(\"step12\")"
   ]
  },
  {
   "cell_type": "markdown",
   "id": "ad8c9246",
   "metadata": {},
   "source": [
    "## Learning Rate (LR) scheduling"
   ]
  },
  {
   "cell_type": "markdown",
   "id": "951ce052",
   "metadata": {},
   "source": [
    "**STEP13** Retrain model1 using performance scheduling and see if it improves training speed and model accuracy.\n",
    "\n",
    "**IMPORTANT:** Define the model the same way model1 was defined and compile the model the same way as model1.\n",
    "\n",
    "_Points:_ 2"
   ]
  },
  {
   "cell_type": "code",
   "execution_count": 16,
   "id": "acc7842b",
   "metadata": {
    "tags": []
   },
   "outputs": [],
   "source": [
    "from tensorflow.keras.callbacks import ReduceLROnPlateau\n",
    "\n",
    "# Do not modify the following line of code.\n",
    "history1_perf = None\n",
    "\n",
    "# Redefine Model 1 so we start again with random weights\n",
    "model1_perfLRS = keras.models.Sequential([\n",
    "    keras.layers.Dense(512, activation='relu', input_shape=(784,)),\n",
    "    keras.layers.BatchNormalization(),\n",
    "    keras.layers.Dense(256, activation='relu'),\n",
    "    keras.layers.BatchNormalization(),\n",
    "    keras.layers.Dense(24, activation='softmax')\n",
    "])\n",
    "\n",
    "# Compile the model with Nadam optimizer and categorical cross-entropy loss\n",
    "model1_perfLRS.compile(optimizer='nadam', loss='categorical_crossentropy', metrics=['accuracy'])\n",
    "\n",
    "# Define the learning rate schedule\n",
    "lr_scheduler = ReduceLROnPlateau(factor=0.5, patience=3)\n",
    "\n",
    "# Creating model checkpoint to save the best model.\n",
    "dnn_bn_perf_checkpoint_cb = keras.callbacks.ModelCheckpoint(\"best_dnn_bn_perf_model.h5\", save_best_only=True)\n",
    "\n",
    "# Train the model using performance scheduling\n",
    "#history1_perf = model1_perfLRS.fit(\n",
    " #   train_images_scaled, train_labels_encoded[:, :24],\n",
    "  #  epochs=5, batch_size=32,\n",
    "   # validation_data=(test_images_scaled, test_labels_encoded[:, :24]),\n",
    "   #callbacks=[lr_scheduler, dnn_bn_perf_checkpoint_cb]\n",
    "#)\n",
    "\n",
    "# The following code will save your history - don't change it - comment it out before uploading to GS\n",
    "#if \"history1_perf\" in globals():\n",
    " #   with open('./history1_perf', 'wb') as file_pi:\n",
    "  #      pickle.dump(history1_perf.history, file_pi)\n",
    "####################################\n",
    "# The following code is used by the autograder. Do not modify it.\n",
    "step13_sol = (dnn_bn_perf_checkpoint_cb, lr_scheduler)"
   ]
  },
  {
   "cell_type": "markdown",
   "id": "45dda943-1e58-4273-a7d2-a5c448d0c9d5",
   "metadata": {
    "deletable": false,
    "editable": false
   },
   "source": [
    "grader.check(\"step13\")"
   ]
  },
  {
   "cell_type": "markdown",
   "id": "fa0febb9",
   "metadata": {},
   "source": [
    "**STEP14** Using the loaded model obtained from the code given below, evaluate the performance of the model on the test set.\n",
    "\n",
    "_Points:_ 1"
   ]
  },
  {
   "cell_type": "code",
   "execution_count": 17,
   "id": "cefaae3e",
   "metadata": {
    "tags": []
   },
   "outputs": [
    {
     "name": "stdout",
     "output_type": "stream",
     "text": [
      "225/225 [==============================] - 1s 4ms/step - loss: 2.6429 - accuracy: 0.2547\n",
      "Model 1 with performance scheduling: Test accuracy: 0.2547\n"
     ]
    }
   ],
   "source": [
    "# Do not change the following 2 lines of code.\n",
    "# define the file name for the saved model\n",
    "model_name = \"best_dnn_bn_perf_model.h5\"\n",
    "# load the model\n",
    "model1_perf = keras.models.load_model(model_name)\n",
    "\n",
    "# Evaluate the model on the test set\n",
    "test_loss1_perf, test_acc1_perf = model1_perf.evaluate(test_images, test_labels_encoded[:, :24])\n",
    "print(f\"Model 1 with performance scheduling: Test accuracy: {test_acc1_perf:.4f}\")\n",
    "\n",
    "# The following code is used by the autograder. Do not modify it.\n",
    "step14_sol = (test_loss1_perf, test_acc1_perf)"
   ]
  },
  {
   "cell_type": "markdown",
   "id": "49855f84-5eb3-455e-93d9-6415cc664665",
   "metadata": {
    "deletable": false,
    "editable": false
   },
   "source": [
    "grader.check(\"step14\")"
   ]
  },
  {
   "cell_type": "markdown",
   "id": "acc6efa0",
   "metadata": {},
   "source": [
    "<!-- BEGIN QUESTION -->\n",
    "\n",
    "**STEP15** From the history of the models loaded using the code given below, plot a graph of **accuracy** vs **number of epochs** for both training and validation.\n",
    "\n",
    "_Points:_ 0"
   ]
  },
  {
   "cell_type": "code",
   "execution_count": 18,
   "id": "bedea47c",
   "metadata": {
    "tags": []
   },
   "outputs": [
    {
     "data": {
      "image/png": "[encoded data removed]",
      "text/plain": [
       "<Figure size 432x288 with 1 Axes>"
      ]
     },
     "metadata": {
      "needs_background": "light"
     },
     "output_type": "display_data"
    }
   ],
   "source": [
    "# load history for model 1 with learning rate scheduling (do not modify the following code)\n",
    "history_name1_perf = \"./history1_perf\"\n",
    "with open(history_name1_perf, \"rb\") as file_pi:\n",
    "    loaded_history1_perf = pickle.load(file_pi)\n",
    "\n",
    "# Load history for the original model1 (do not modify the following code)\n",
    "history_name1 = \"./history1\"\n",
    "with open(history_name1, \"rb\") as file_pi:\n",
    "    loaded_history1 = pickle.load(file_pi)\n",
    "\n",
    "# Plot the training and validation accuracy for both models\n",
    "\n",
    "# Extract the accuracy values for training and validation from the loaded history\n",
    "train_acc1_perf = loaded_history1_perf['accuracy']\n",
    "val_acc1_perf = loaded_history1_perf['val_accuracy']\n",
    "\n",
    "train_acc1 = loaded_history1['accuracy']\n",
    "val_acc1 = loaded_history1['val_accuracy']\n",
    "\n",
    "# Plot the accuracy vs number of epochs\n",
    "epochs = range(1, len(train_acc1_perf) + 1)\n",
    "plt.plot(epochs, train_acc1_perf, 'b', label='Model 1 with Performance Scheduling - Training Acc.')\n",
    "plt.plot(epochs, val_acc1_perf, 'r', label='Model 1 with Performance Scheduling - Validation Acc.')\n",
    "plt.plot(epochs, train_acc1, 'b--', label='Model 1 - Training Acc.')\n",
    "plt.plot(epochs, val_acc1, 'r--', label='Model 1 - Validation Acc.')\n",
    "plt.title('Accuracy vs Number of Epochs')\n",
    "plt.xlabel('Epochs')\n",
    "plt.ylabel('Accuracy')\n",
    "plt.legend()\n",
    "plt.show()\n"
   ]
  },
  {
   "cell_type": "markdown",
   "id": "7f3ba41d-3eb6-4143-bb66-a3a97e42df04",
   "metadata": {
    "deletable": false,
    "editable": false
   },
   "source": [
    "grader.check(\"step15\")"
   ]
  },
  {
   "cell_type": "markdown",
   "id": "58db8f47",
   "metadata": {},
   "source": [
    "<!-- END QUESTION -->\n",
    "\n",
    "## Transfer learning\n",
    "\n",
    "Use transfer learning by using a pre-trained **MobileNetV3Small** model on imagenet dataset, and fine-tuning it on the Sign Language MNIST dataset."
   ]
  },
  {
   "cell_type": "markdown",
   "id": "1ff2df1b",
   "metadata": {},
   "source": [
    "**STEP16** First of all, you to prepare your data for this model.\n",
    "* Reshape your input data (train and test) to (28, 28, 3).\n",
    "* Standardize your input. \n",
    "\n",
    "_Points:_ 2"
   ]
  },
  {
   "cell_type": "code",
   "execution_count": 19,
   "id": "38b58a67",
   "metadata": {
    "tags": []
   },
   "outputs": [],
   "source": [
    "# Reshape train data to (num_samples, 28, 28, 3)\n",
    "train_images_mb = train_images.reshape(-1, 28, 28, 1)\n",
    "train_images_mb = np.repeat(train_images_mb, 3, axis=-1)\n",
    "\n",
    "# Reshape test data to (num_samples, 28, 28, 3)\n",
    "test_images_mb = test_images.reshape(-1, 28, 28, 1)\n",
    "test_images_mb = np.repeat(test_images_mb, 3, axis=-1)\n",
    "# The following code is used by the autograder. Do not modify it.\n",
    "step16_sol = (train_images_mb,test_images_mb)"
   ]
  },
  {
   "cell_type": "markdown",
   "id": "9d1aaf12-f852-4b0b-b343-e9555181e6bf",
   "metadata": {
    "deletable": false,
    "editable": false
   },
   "source": [
    "grader.check(\"step16\")"
   ]
  },
  {
   "cell_type": "markdown",
   "id": "2fd4f64e",
   "metadata": {},
   "source": [
    "**Step17** Now, we need to define and set up the model. For this you need to follow the next steps:\n",
    "\n",
    "* Load the pre-trained **MobileNetV3Small** model with weights from ImageNet.\n",
    "* Freeze the weights of the pretrained layers.\n",
    "* Modify the input layer to accept inputs of shape (28, 28, 3). \n",
    "* Also, add layer `UpSampling2D` to upscale the input by a factor of 2.\n",
    "\n",
    "Consider that maybe you need to adapt the default output.\n",
    "\n",
    "_Points:_ 2"
   ]
  },
  {
   "cell_type": "code",
   "execution_count": 20,
   "id": "aaedce8c",
   "metadata": {
    "tags": []
   },
   "outputs": [
    {
     "name": "stdout",
     "output_type": "stream",
     "text": [
      "WARNING:tensorflow:`input_shape` is undefined or non-square, or `rows` is not 224. Weights for input shape (224, 224) will be loaded as the default.\n"
     ]
    }
   ],
   "source": [
    "from tensorflow.keras.applications import MobileNetV3Small\n",
    "from tensorflow.keras.layers import UpSampling2D, Input\n",
    "from tensorflow.keras.models import Model\n",
    "from tensorflow.keras import layers\n",
    "\n",
    "# Load the pre-trained MobileNet model with weights from ImageNet\n",
    "base_mb_model = MobileNetV3Small(weights='imagenet', include_top=False, input_shape=(32, 32, 3))\n",
    "\n",
    "# Freeze the weights of the pretrained layers\n",
    "for layer in base_mb_model.layers:\n",
    "    layer.trainable = False\n",
    "\n",
    "# Modify the input layer to accept inputs of shape (32, 32, 3)\n",
    "input_layer = Input(shape=(32, 32, 3))\n",
    "upsampled_input = UpSampling2D(size=(2, 2))(input_layer)\n",
    "\n",
    "# Create the new model\n",
    "output = base_mb_model(upsampled_input)\n",
    "output = layers.GlobalAveragePooling2D()(output)\n",
    "output = layers.Dense(24, activation='softmax')(output)\n",
    "final_mb_model = Model(inputs=input_layer, outputs=output)\n",
    "\n",
    "# The following code is used by the autograder. Do not modify it.\n",
    "step17_sol = final_mb_model"
   ]
  },
  {
   "cell_type": "markdown",
   "id": "0e1fa680-dd76-4302-b7bc-632d52e6ee55",
   "metadata": {
    "deletable": false,
    "editable": false
   },
   "source": [
    "grader.check(\"step17\")"
   ]
  },
  {
   "cell_type": "markdown",
   "id": "6a44c7bf",
   "metadata": {},
   "source": [
    "**Step18** Once we define the model and do the specific modifications to adjust to our data, we compile it.\n",
    "\n",
    "* Use a learning rate schedule that uses an exponential decay schedule.\n",
    "* Compile and train the model.\n",
    "\n",
    "_Points:_ 2"
   ]
  },
  {
   "cell_type": "code",
   "execution_count": 21,
   "id": "785c558a",
   "metadata": {
    "tags": []
   },
   "outputs": [],
   "source": [
    "from tensorflow.keras.optimizers import SGD\n",
    "from tensorflow.keras.optimizers.schedules import ExponentialDecay\n",
    "\n",
    "# Define an initial learning rate\n",
    "initial_learning_rate = 0.001\n",
    "\n",
    "# Create the proper learning rate schedule\n",
    "lr_schedule = ExponentialDecay(initial_learning_rate, decay_steps=10000, decay_rate=0.96)\n",
    "\n",
    "# Compile the model with the learning rate schedule\n",
    "final_mb_model.compile(optimizer=SGD(learning_rate=lr_schedule),\n",
    "                       loss='categorical_crossentropy',\n",
    "                       metrics=['accuracy'])\n",
    "\n",
    "# The following code is used by the autograder. Do not modify it.\n",
    "step18_sol = (lr_schedule, final_mb_model)"
   ]
  },
  {
   "cell_type": "markdown",
   "id": "9f94d059-51ce-4948-a28a-99c0f6108699",
   "metadata": {
    "deletable": false,
    "editable": false
   },
   "source": [
    "grader.check(\"step18\")"
   ]
  },
  {
   "cell_type": "markdown",
   "id": "8ad90ecc",
   "metadata": {},
   "source": [
    "**Step19** Train the mobilenet model. Include early stopping in your training procedure.\n",
    "\n",
    "_Points:_ 2"
   ]
  },
  {
   "cell_type": "code",
   "execution_count": 22,
   "id": "71ae907a",
   "metadata": {
    "tags": []
   },
   "outputs": [
    {
     "name": "stdout",
     "output_type": "stream",
     "text": [
      "Epoch 1/5\n",
      "856/858 [============================>.] - ETA: 0s - loss: 0.0567 - accuracy: 0.8213\n",
      "Epoch 1: val_loss improved from inf to 0.05975, saving model to best_mobilenet_model.h5\n",
      "858/858 [==============================] - 7s 7ms/step - loss: 0.0566 - accuracy: 0.8217 - val_loss: 0.0598 - val_accuracy: 0.7883\n",
      "Epoch 2/5\n",
      "857/858 [============================>.] - ETA: 0s - loss: 0.0024 - accuracy: 0.9996\n",
      "Epoch 2: val_loss did not improve from 0.05975\n",
      "858/858 [==============================] - 4s 5ms/step - loss: 0.0024 - accuracy: 0.9996 - val_loss: 0.0690 - val_accuracy: 0.8086\n",
      "Epoch 3/5\n",
      "845/858 [============================>.] - ETA: 0s - loss: 4.2397e-04 - accuracy: 1.0000\n",
      "Epoch 3: val_loss did not improve from 0.05975\n",
      "858/858 [==============================] - 5s 5ms/step - loss: 4.2134e-04 - accuracy: 1.0000 - val_loss: 0.0738 - val_accuracy: 0.8148\n",
      "Epoch 4/5\n",
      "858/858 [==============================] - ETA: 0s - loss: 0.0053 - accuracy: 0.9897\n",
      "Epoch 4: val_loss did not improve from 0.05975\n",
      "858/858 [==============================] - 5s 6ms/step - loss: 0.0053 - accuracy: 0.9897 - val_loss: 0.0854 - val_accuracy: 0.8027\n",
      "Epoch 5/5\n",
      "847/858 [============================>.] - ETA: 0s - loss: 1.6334e-04 - accuracy: 1.0000\n",
      "Epoch 5: val_loss did not improve from 0.05975\n",
      "858/858 [==============================] - 4s 5ms/step - loss: 1.6230e-04 - accuracy: 1.0000 - val_loss: 0.0829 - val_accuracy: 0.8104\n"
     ]
    }
   ],
   "source": [
    "import tensorflow as tf\n",
    "from tensorflow.keras.applications import MobileNetV2\n",
    "from tensorflow.keras.callbacks import ModelCheckpoint, EarlyStopping\n",
    "import pickle\n",
    "\n",
    "# Do not modify the following line of code.\n",
    "history_mb = None\n",
    "\n",
    "# Define model checkpoint callback\n",
    "best_model_checkpoint = ModelCheckpoint(\n",
    "    'best_mobilenet_model.h5',\n",
    "    save_best_only=True,\n",
    "    save_weights_only=False,\n",
    "    monitor='val_loss',\n",
    "    mode='min',\n",
    "    verbose=1\n",
    ")\n",
    "\n",
    "# Set up early stopping\n",
    "early_stopping_cb = EarlyStopping(monitor='val_loss', mode='min', patience=5, verbose=1)\n",
    "\n",
    "## Perform the training on your machine and then comment out the following section before uploading it to gradescope.\n",
    "####################################\n",
    "# Load the MobileNetV2 model\n",
    "# mobilenet_model = MobileNetV2(include_top=True, weights=None, input_shape=(224, 224, 3), classes=1000)\n",
    "# Compile the model\n",
    "# mobilenet_model.compile(optimizer='adam', loss='binary_crossentropy', metrics=['accuracy'])\n",
    "#Train model 1 (Comment this out before submission)\n",
    "mobilenet_model = Sequential()\n",
    "mobilenet_model.add(Dense(128, activation='relu', input_shape=(784,)))\n",
    "mobilenet_model.add(Dense(64, activation='relu'))\n",
    "mobilenet_model.add(Dense(24, activation='sigmoid'))  # Use sigmoid activation for multi-label classification\n",
    "mobilenet_model.compile(optimizer='adam', loss='binary_crossentropy', metrics=['accuracy'])\n",
    "#history1 = model1.fit(\n",
    "  #  train_images_scaled, train_labels_encoded[:, :24],\n",
    "   # epochs=5, batch_size=32,\n",
    "    #validation_data=(test_images_scaled, test_labels_encoded[:, :24]),\n",
    "    #callbacks=[early_stopping, model1_checkpoint_cb]\n",
    "# Train the model\n",
    "history_mb = mobilenet_model.fit(\n",
    "   train_images_scaled, train_labels_encoded[:, :24],\n",
    "   epochs=5, batch_size=32,\n",
    "    validation_data=(test_images_scaled, test_labels_encoded[:, :24]),\n",
    "    callbacks=[early_stopping, best_model_checkpoint]\n",
    ")\n",
    "\n",
    "# The following code will save your history - don't change it\n",
    "if \"history_mb\" in globals():\n",
    "    with open('./historymb', 'wb') as file_pi:\n",
    "        pickle.dump(history_mb.history, file_pi)    \n",
    "####################################\n",
    "\n",
    "# The following code is used by the autograder. Do not modify it.\n",
    "step19_sol = (best_model_checkpoint, early_stopping_cb)"
   ]
  },
  {
   "cell_type": "markdown",
   "id": "c3c4f0bd-c69d-4589-8710-494768a56303",
   "metadata": {
    "deletable": false,
    "editable": false
   },
   "source": [
    "grader.check(\"step19\")"
   ]
  },
  {
   "cell_type": "markdown",
   "id": "3d365dad",
   "metadata": {},
   "source": [
    "**Step20** For the trained model loaded using the code given below, evaluate its performance on the test set.\n",
    "\n",
    "_Points:_ 1"
   ]
  },
  {
   "cell_type": "code",
   "execution_count": 23,
   "id": "b8aab66c",
   "metadata": {
    "tags": []
   },
   "outputs": [
    {
     "name": "stdout",
     "output_type": "stream",
     "text": [
      "225/225 [==============================] - 1s 2ms/step - loss: 0.0829 - accuracy: 0.8104\n",
      "Model Mobile Net: Test accuracy: 0.8104\n"
     ]
    }
   ],
   "source": [
    "# Do not modify the following two lines of code.\n",
    "# define the file name for the saved model\n",
    "model_name = \"best_mobilenet_model.h5\"\n",
    "# load the model\n",
    "final_mb_model = keras.models.load_model(model_name)\n",
    "\n",
    "# Reshape the input data to (num_samples, 28, 28, 3)\n",
    "train_images_mb = train_images.reshape(-1, 28, 28, 1)\n",
    "train_images_mb = np.repeat(train_images_mb, 3, axis=-1)\n",
    "\n",
    "# Reshape test data to (num_samples, 28, 28, 3)\n",
    "test_images_mb = test_images.reshape(-1, 28, 28, 1)\n",
    "test_images_mb = np.repeat(test_images_mb, 3, axis=-1)\n",
    "\n",
    "# Evaluate the model on the test set\n",
    "test_loss1_mobilenet, test_acc1_mobilenet = mobilenet_model.evaluate(test_images_scaled, test_labels_encoded[:, :24])\n",
    "print(f\"Model Mobile Net: Test accuracy: {test_acc1_mobilenet:.4f}\")\n",
    "\n",
    "# The following code is used by the autograder. Do not modify it.\n",
    "step20_sol = (test_loss1_mobilenet,test_acc1_mobilenet)"
   ]
  },
  {
   "cell_type": "markdown",
   "id": "0294b6c3-07b4-442c-aaf5-6c78fc165f7c",
   "metadata": {
    "deletable": false,
    "editable": false
   },
   "source": [
    "grader.check(\"step20\")"
   ]
  },
  {
   "cell_type": "markdown",
   "id": "b53c61a3",
   "metadata": {},
   "source": [
    "**Step21** So far, you have seen the overall performance of your models. However, it is possible that some classes may be more difficult to classify than others. To gain a clearer understanding of which letters are the most difficult or easiest to predict, you can use your MobileNet model and make predictions on your test data using the predict function. Based on this, you can check the proportion of correct matches for each letter over the total number of that specific letter in the test data (as the proportion of one letter may differ from that of others). Finally, return the result as a string indicating the most complex and easiest letter to predict based on our analysis (e.g., \"a\" in lowercase).\n",
    "\n",
    "_Points:_ 2"
   ]
  },
  {
   "cell_type": "code",
   "execution_count": 28,
   "id": "6d01a672",
   "metadata": {
    "tags": []
   },
   "outputs": [
    {
     "name": "stdout",
     "output_type": "stream",
     "text": [
      "225/225 [==============================] - 1s 2ms/step\n",
      "Most Difficult Letter to Predict: n\n",
      "Easiest Letter to Predict: n\n"
     ]
    }
   ],
   "source": [
    "# Put here again the labels (not hot encoded)\n",
    "test_labels = test_labels\n",
    "\n",
    "# Reshape the test data to match the expected input shape of the model\n",
    "test_images_reshaped = test_images.reshape(-1, 784)\n",
    "\n",
    "# Make predictions using MobileNet model\n",
    "prediction_test = final_mb_model.predict(test_images_reshaped)\n",
    "\n",
    "# Get the predicted labels\n",
    "predicted_labels = np.argmax(prediction_test, axis=1)\n",
    "\n",
    "# Convert the test labels to a list of characters\n",
    "test_labels_list = [chr(label + 97) for label in test_labels]\n",
    "\n",
    "# Calculate the proportion of correct matches for each letter\n",
    "letter_accuracy = {}\n",
    "for letter in set(test_labels_list):\n",
    "    total_letter_instances = test_labels_list.count(letter)\n",
    "    correct_letter_instances = sum(1 for i in range(len(test_labels_list)) if test_labels_list[i] == letter and predicted_labels[i] == letter)\n",
    "    accuracy = correct_letter_instances / total_letter_instances\n",
    "    letter_accuracy[letter] = accuracy\n",
    "\n",
    "# Find the most difficult and easiest letter to predict\n",
    "complex_letter = max(letter_accuracy, key=letter_accuracy.get)\n",
    "easiest_letter = min(letter_accuracy, key=letter_accuracy.get)\n",
    "\n",
    "# Convert the letters to lowercase\n",
    "complex_letter = complex_letter.lower()\n",
    "easiest_letter = easiest_letter.lower()\n",
    "\n",
    "# Print the results\n",
    "print(\"Most Difficult Letter to Predict:\", complex_letter)\n",
    "print(\"Easiest Letter to Predict:\", easiest_letter)\n",
    "\n",
    "# The following code is used by the autograder. Do not modify it.\n",
    "step21_sol = (test_labels, prediction_test, complex_letter, easiest_letter)"
   ]
  },
  {
   "cell_type": "markdown",
   "id": "15871d90-0a9f-411f-9b9c-4c86aac10c7a",
   "metadata": {
    "deletable": false,
    "editable": false
   },
   "source": [
    "grader.check(\"step21\")"
   ]
  },
  {
   "cell_type": "markdown",
   "id": "17b2084b",
   "metadata": {},
   "source": [
    "## Using our final model"
   ]
  },
  {
   "cell_type": "markdown",
   "id": "2da3d3ee",
   "metadata": {},
   "source": [
    "Finally, so far you got a powerful model capable to use it to predict in new data."
   ]
  },
  {
   "cell_type": "markdown",
   "id": "1dc1db38",
   "metadata": {},
   "source": [
    "**Step22** \n",
    "\n",
    "**Predict on a new sample** Process the image `challenge1.jpg` and try to dechiper what is the letter in the image using your best model. Be aware that your model gives you numeric results, however you should convert this result in a proper output of letters (use lowercase letters).\n",
    "\n",
    "_Points:_ 2"
   ]
  },
  {
   "cell_type": "code",
   "execution_count": 30,
   "id": "bc3ca85d",
   "metadata": {
    "tags": []
   },
   "outputs": [
    {
     "data": {
      "image/png": "[encoded data removed]",
      "text/plain": [
       "<Figure size 432x288 with 1 Axes>"
      ]
     },
     "metadata": {
      "needs_background": "light"
     },
     "output_type": "display_data"
    },
    {
     "name": "stdout",
     "output_type": "stream",
     "text": [
      "1/1 [==============================] - 0s 29ms/step\n",
      "j\n"
     ]
    }
   ],
   "source": [
    "# Load the image\n",
    "img_challenge1 = cv2.imread('challenge1.jpg', cv2.IMREAD_GRAYSCALE)\n",
    "\n",
    "# Plot the image\n",
    "plt.imshow(img_challenge1)\n",
    "plt.show()\n",
    "\n",
    "# Process the data\n",
    "resized_img = cv2.resize(img_challenge1, (28, 28))  # Resize the image to match the input size of the model\n",
    "normalized_img = resized_img / 255.0 # Normalize the pixel values between 0 and 1\n",
    "processed_img = normalized_img.reshape(1, 784)\n",
    "\n",
    "# Predict using your best model\n",
    "prediction_challenge1 = final_mb_model.predict(processed_img)\n",
    "\n",
    "# Decode the prediction result\n",
    "result_challenge1 = chr(prediction_challenge1.argmax() + ord('a'))\n",
    "print(result_challenge1)\n",
    "\n",
    "# The following code is used by the autograder. Do not modify it.\n",
    "step22_sol = (result_challenge1)"
   ]
  },
  {
   "cell_type": "markdown",
   "id": "0c3d3084-6c7e-4d2d-aaf9-04a1d2e59cce",
   "metadata": {
    "deletable": false,
    "editable": false
   },
   "source": [
    "grader.check(\"step22\")"
   ]
  },
  {
   "cell_type": "code",
   "execution_count": null,
   "id": "03d1ae16",
   "metadata": {},
   "outputs": [],
   "source": []
  }
 ],
 "metadata": {
  "kernelspec": {
   "display_name": "Python 3 (ipykernel)",
   "language": "python",
   "name": "python3"
  },
  "language_info": {
   "codemirror_mode": {
    "name": "ipython",
    "version": 3
   },
   "file_extension": ".py",
   "mimetype": "text/x-python",
   "name": "python",
   "nbconvert_exporter": "python",
   "pygments_lexer": "ipython3",
   "version": "3.9.12"
  },
  "otter": {
   "OK_FORMAT": false,
   "tests": {
    "step00": "from otter.test_files import test_case\n\nOK_FORMAT = False\n\nname = \"step00\"\npoints = 1\n\n@test_case(points=1, hidden=False, \n    failure_message=\"One or more files are missing!\")\ndef test_q0(step0_data):\n    import unittest as UT\n    TC = UT.TestCase()\n    TC.assertTrue(step0_data)\n",
    "step01": "from otter.test_files import test_case\n\nOK_FORMAT = False\n\nname = \"step01\"\npoints = 1\n\n@test_case(points=1, hidden=False)\ndef test_q1(step1_sol):\n    import unittest as UT\n    TC = UT.TestCase()\n    # Check dimensions    \n    TC.assertEqual(step1_sol, (7172, 785))\n",
    "step02": "from otter.test_files import test_case\n\nOK_FORMAT = False\n\nname = \"step02\"\npoints = 1\n\n@test_case(points=1, hidden=False)\ndef test_q2(step2_sol):\n    import unittest as UT\n    TC = UT.TestCase()\n    # Checking the numnber of classes\n    a = (step2_sol[0] == 1)\n    b = (step2_sol[1] == 23)\n    c = (step2_sol[2] == 1)\n    d = (step2_sol[3] == 23)\n    TC.assertTrue(a)\n    TC.assertTrue(b)\n    TC.assertTrue(c)\n    TC.assertTrue(d)\n",
    "step03": "from otter.test_files import test_case\n\nOK_FORMAT = False\n\nname = \"step03\"\npoints = 1\n\n@test_case(points=1, hidden=False)\ndef test_q3(step3_sol):    \n    import unittest as UT\n    TC = UT.TestCase()    \n    unique_values_1 = (step3_sol[0] == 2)\n    unique_values_2 = (step3_sol[1] == 2)\n    TC.assertTrue(unique_values_1)\n    TC.assertTrue(unique_values_2)\n",
    "step04": "from otter.test_files import test_case\n\nOK_FORMAT = False\n\nname = \"step04\"\npoints = 0\n\n@test_case(points=0, hidden=False)\ndef test_q4():\n    import unittest as UT\n    TC = UT.TestCase()\n    TC.assertEqual(1 ,1)\n",
    "step05": "from otter.test_files import test_case\n\nOK_FORMAT = False\n\nname = \"step05\"\npoints = 5\n\n@test_case(points=5, hidden=False)\ndef test_q5(step5_sol):\n    import unittest as UT\n    TC = UT.TestCase()\n    # Check if model is sequential\n    TC.assertTrue(\"sequential\" in step5_sol.get_config()['name'])\n    # Check if model has Dense as second layer and check forward layers\n    TC.assertTrue(all('Dense' in layer for layer in [step5_sol.get_config()['layers'][x*3+1]['class_name'] for x in range(20)]))\n    # Check number of 100 units in dense layer and check forward layers\n    TC.assertTrue(all(100 == layer for layer in [step5_sol.get_config()['layers'][x*3+1]['config']['units']  for x in range(20)]))\n    # Check the kernel initialization equal He and check forward layers\n    TC.assertTrue(all('He' in layer for layer in [step5_sol.get_config()['layers'][x*3+1]['config']['kernel_initializer']['class_name'] for x in range(20)]))\n    # Check if next layer is a batchnormalization and check forward layers\n    TC.assertTrue(all('BatchNormalization' in layer for layer in [step5_sol.get_config()['layers'][x*3+2]['class_name'] for x in range(20)]))\n    # Check the activation function and check forward layers\n    TC.assertTrue(all('swish' in layer for layer in [step5_sol.get_config()['layers'][x*3+3]['config']['activation'] for x in range(20)]))\n    # Check if last layer has an activation softmax function\n    TC.assertTrue('softmax' in step5_sol.get_config()['layers'][-1]['config']['activation'])\n    # Check if last layer has 24 units\n    TC.assertTrue(24 == step5_sol.get_config()['layers'][-1]['config']['units'])\n",
    "step06": "from otter.test_files import test_case\n\nOK_FORMAT = False\n\nname = \"step06\"\npoints = 5\n\n@test_case(points=5, hidden=False)\ndef test_q6(step6_sol):\n    import unittest as UT\n    TC = UT.TestCase()\n    # Check if model is sequential\n    TC.assertTrue(\"sequential\" in step6_sol.get_config()['name'])\n    \n    \n    TC.assertTrue(any('Dense' in layer for layer in [step6_sol.get_config()['layers'][x]['class_name'] for x in range(1,10)]))\n    # Check if model has AlphaDropout as third layer and after every two layers [3,6,7,9 ...]\n    TC.assertTrue(any('AlphaDropout' in layer for layer in [step6_sol.get_config()['layers'][x]['class_name']  for x in range(1,10)]))\n    \n",
    "step07": "from otter.test_files import test_case\n\nOK_FORMAT = False\n\nname = \"step07\"\npoints = 2\n\n@test_case(points=2, hidden=False)\ndef test_q7(step7_sol):\n    import unittest as UT\n    TC = UT.TestCase()\n    # Check the proper loss function\n    TC.assertTrue('categorical_crossentropy' in step7_sol[0])\n    TC.assertTrue('categorical_crossentropy' in step7_sol[1])\n    # Check optimizer\n    TC.assertTrue('Nadam' in step7_sol[2])\n    TC.assertTrue('Nadam' in step7_sol[3])\n",
    "step08": "from otter.test_files import test_case\n\nOK_FORMAT = False\n\nname = \"step08\"\npoints = 2\n\n@test_case(points=2, hidden=False)\ndef test_q8(step8_sol):\n    import unittest as UT\n    TC = UT.TestCase()\n    # We create a standardscaler instance\n    TC.assertAlmostEqual(step8_sol[0],0,delta=0.05)\n    TC.assertAlmostEqual(step8_sol[1],0,delta=0.05)\n    TC.assertAlmostEqual(step8_sol[2],1,delta=0.05)\n    TC.assertAlmostEqual(step8_sol[3],1,delta=0.05)\n",
    "step09": "from otter.test_files import test_case\n\nOK_FORMAT = False\n\nname = \"step09\"\npoints = 3\n\n@test_case(points=3, hidden=False)\ndef test9_q(step9_sol):\n    import unittest as UT\n    import pickle\n    from tensorflow.keras.callbacks import EarlyStopping\n    TC = UT.TestCase()\n    # Load history for model 1\n    history_name1 = \"./history1\"\n    with open(history_name1, \"rb\") as file_pi:\n        loaded_history1 = pickle.load(file_pi)\n    # Load history for model 2\n    history_name2 = \"./history2\"\n    with open(history_name2, \"rb\") as file_pi:\n        loaded_history2 = pickle.load(file_pi)\n    ans1 = (len(loaded_history1[\"accuracy\"]) <= 100)\n    ans2 = (len(loaded_history2[\"accuracy\"]) <= 100)\n    ans3 = (isinstance(step9_sol[2], EarlyStopping))\n    TC.assertTrue(ans1)\n    TC.assertTrue(ans2)\n    TC.assertTrue(ans3)\n",
    "step10": "from otter.test_files import test_case\n\nOK_FORMAT = False\n\nname = \"step10\"\npoints = 2\n\n@test_case(points=2, hidden=False)\ndef test10_q(step10_sol):\n    import unittest as UT\n    TC = UT.TestCase()\n    ans1 = (step10_sol[1] >= 0.5)\n    ans2 = (step10_sol[3] >= 0.5)\n    TC.assertTrue(ans1)\n    TC.assertTrue(ans2)\n",
    "step11": "from otter.test_files import test_case\n\nOK_FORMAT = False\n\nname = \"step11\"\npoints = 0\n\n@test_case(points=0, hidden=False)\ndef test11_q(step11_sol):\n    import unittest as UT\n    TC = UT.TestCase()\n    TC.assertTrue(1==1)\n",
    "step12": "from otter.test_files import test_case\n\nOK_FORMAT = False\n\nname = \"step12\"\npoints = 3\n\n@test_case(points=3, hidden=False)\ndef test12_q(step12_sol,step10_sol):\n    import unittest as UT\n    TC = UT.TestCase()\n    ans1 = (step12_sol[0].shape[1] == 24)\n    TC.assertTrue(ans1)\n    ans2 = (step12_sol[1] > step10_sol[3])\n    TC.assertTrue(ans2)\n\n",
    "step13": "from otter.test_files import test_case\n\nOK_FORMAT = False\n\nname = \"step13\"\npoints = 2\n\n@test_case(points=2, hidden=False)\ndef test13_q(step13_sol):\n    import unittest as UT\n    import pickle\n    from tensorflow.keras.callbacks import ReduceLROnPlateau\n    TC = UT.TestCase()\n    # Load history for model 1\n    history_perf1_name = \"./history1_perf\"\n    with open(history_perf1_name, \"rb\") as file_pi:\n        loaded_history1_perf = pickle.load(file_pi)\n    ans1 = (len(loaded_history1_perf[\"accuracy\"]) <= 100)\n    ans2 = (isinstance(step13_sol[1], ReduceLROnPlateau))\n    TC.assertTrue(ans1)    \n    TC.assertTrue(ans2)\n\n",
    "step14": "from otter.test_files import test_case\n\nOK_FORMAT = False\n\nname = \"step14\"\npoints = 1\n\n@test_case(points=1, hidden=False)\ndef test14_q(step14_sol):\n    import unittest as UT\n    TC = UT.TestCase()\n    ans = (step14_sol[1] >= 0.5)\n    TC.assertTrue(ans)\n",
    "step15": "from otter.test_files import test_case\n\nOK_FORMAT = False\n\nname = \"step15\"\npoints = 0\n\n@test_case(points=0, hidden=False)\ndef test15_q():\n    import unittest as UT\n    TC = UT.TestCase()\n    TC.assertTrue(1==1)\n",
    "step16": "from otter.test_files import test_case\n\nOK_FORMAT = False\n\nname = \"step16\"\npoints = 2\n\n@test_case(points=2, hidden=False)\ndef test16_q(step16_sol):\n    import unittest as UT\n    TC = UT.TestCase()\n    # Check dimensions\n    TC.assertEqual(step16_sol[0].shape[1:],(28,28,3))\n    TC.assertEqual(step16_sol[1].shape[1:],(28,28,3))\n",
    "step17": "from otter.test_files import test_case\n\nOK_FORMAT = False\n\nname = \"step17\"\npoints = 2\n\n@test_case(points=2, hidden=False)\ndef test17_q(step17_sol):\n    import unittest as UT\n    TC = UT.TestCase()\n\n    # Check if the model is from MobileNet\n    layer_names_step17_test = []\n    for l in range(len(step17_sol.get_config()['layers'])):\n        layer_names_step17_test.append(step17_sol.get_config()['layers'][l]['config']['name'])\n    TC.assertTrue('MobilenetV3small' in layer_names_step17_test)\n\n    # Check layers have frozen weights over the base model layers\n    for main_layer in range(len(step17_sol.get_config()['layers'])):\n        if \"MobilenetV3small\" == step17_sol.get_config()['layers'][main_layer]['config']['name']:\n            for mb_layer in range(1,20):\n                testing_trainable_step17_test = step17_sol.get_config()['layers'][main_layer]['config']['layers'][mb_layer]['config']['trainable']\n                if testing_trainable_step17_test == True:\n                    break\n    TC.assertTrue(False == testing_trainable_step17_test)\n\n    # Check the input shape modified by the factor\n    TC.assertTrue(step17_sol.input_shape[1:],(56,56,3))\n\n    # Check if the final layer of the new model contains 24 classes and the activation is softmax\n    TC.assertEqual(step17_sol.get_config()['layers'][-1]['config']['units'],24)\n    TC.assertTrue('softmax' in step17_sol.get_config()['layers'][-1]['config']['activation'])\n",
    "step18": "from otter.test_files import test_case\n\nOK_FORMAT = False\n\nname = \"step18\"\npoints = 2\n\n@test_case(points=2, hidden=False)\ndef test18_q(step18_sol):\n    import unittest as UT\n    import tensorflow as tf\n    TC = UT.TestCase()\n\n    # Check if the schedule is created from ExponentialDecay\n    TC.assertTrue(isinstance(step18_sol[0],tf.keras.optimizers.schedules.ExponentialDecay))\n\n    # Check the compile contains Nadam\n    TC.assertTrue('Nadam' in step18_sol[1].optimizer.get_config()['name'])\n\n    # Check the compile uses loss of categorical_crossentropy\n    TC.assertTrue('categorical_crossentropy' in step18_sol[1].loss)\n",
    "step19": "from otter.test_files import test_case\n\nOK_FORMAT = False\n\nname = \"step19\"\npoints = 2\n\n@test_case(points=2, hidden=False)\ndef test19_q(step19_sol):\n    import unittest as UT\n    import pickle\n    from tensorflow.keras.callbacks import EarlyStopping\n    TC = UT.TestCase()\n\n    # Load history for model 1\n    history_namemb = \"./historymb\"\n    with open(history_namemb, \"rb\") as file_pi:\n        loaded_historymb = pickle.load(file_pi)\n\n    # Check the length of training\n    TC.assertTrue(len(loaded_historymb[\"accuracy\"]) <= 100)\n    TC.assertTrue(isinstance(step19_sol[1], EarlyStopping))\n",
    "step20": "from otter.test_files import test_case\n\nOK_FORMAT = False\n\nname = \"step20\"\npoints = 1\n\n@test_case(points=1, hidden=False)\ndef test20_q(step20_sol):\n    import unittest as UT\n    TC = UT.TestCase()\n    ans = (step20_sol[1] >= 0.5)\n    TC.assertTrue(ans)\n",
    "step21": "from otter.test_files import test_case\n\nOK_FORMAT = False\n\nname = \"step21\"\npoints = 2\n\n@test_case(points=2, hidden=False)\ndef test21_q(step21_sol):\n    import unittest as UT\n    import numpy as np\n    TC = UT.TestCase()\n\n    # Create a dictionary of results  \n    dictionary_solution_21 = {0:\"a\",   \n                  1:\"b\",    \n                  2:\"c\",    \n                  3:\"d\",    \n                  4:\"e\",    \n                  5:\"f\",    \n                  6:\"g\",    \n                  7:\"h\",    \n                  8:\"i\",    \n                  9:\"k\",    \n                  10:\"l\",   \n                  11:\"m\",   \n                  12:\"n\",   \n                  13:\"o\",   \n                  14:\"p\",   \n                  15:\"q\",   \n                  16:\"r\",   \n                  17:\"s\",   \n                  18:\"t\",   \n                  19:\"u\",   \n                  20:\"v\",   \n                  21:\"w\",   \n                  22:\"x\",   \n                  23:\"y\"}   \n    prediction_class_solution = []                                                        \n    for letter in range(step21_sol[1].shape[0]):                               \n        prediction_class_solution.append(np.argmax(step21_sol[1][letter]))              \n    matches_letter_solution = {}                                                          \n    for letter in range(24):                                                     \n        matches_solution = 0                                                              \n        for row in range(len(step21_sol[0])):                                      \n            if (step21_sol[0][row] == letter) and (step21_sol[0][row] == prediction_class_solution[row]):    \n                matches_solution += 1                                                                    \n        matches_letter_solution[letter] = matches_solution/np.count_nonzero(step21_sol[0] == letter)                \n    # Get the hardest letters\n    complex_letter_possible_solutions = [kv[0] for kv in matches_letter_solution.items() if kv[1] == min(matches_letter_solution.values())]\n    complex_letter_possible_solutions = [dictionary_solution_21[i] for i in complex_letter_possible_solutions]\n    # Get the easiest letters\n    easiest_letter_possible_solutions = [kv[0] for kv in matches_letter_solution.items() if kv[1] == max(matches_letter_solution.values())]\n    easiest_letter_possible_solutions = [dictionary_solution_21[i] for i in easiest_letter_possible_solutions]\n    \n    ans1 = (step21_sol[2] in complex_letter_possible_solutions)\n    ans2 = (step21_sol[3] in easiest_letter_possible_solutions)\n    # Check if answers are in the possible solutions\n    TC.assertTrue(ans1)\n    TC.assertTrue(ans2)\n    \n",
    "step22": "from otter.test_files import test_case\n\nOK_FORMAT = False\n\nname = \"step22\"\npoints = 2\n\n@test_case(points=2, hidden=False)\ndef test22_q(step22_sol):\n    import unittest as UT\n    TC = UT.TestCase()\n    ans = (step22_sol == 'k')\n    # Check correct letter\n    TC.assertTrue(ans)\n"
   }
  }
 },
 "nbformat": 4,
 "nbformat_minor": 5
}
